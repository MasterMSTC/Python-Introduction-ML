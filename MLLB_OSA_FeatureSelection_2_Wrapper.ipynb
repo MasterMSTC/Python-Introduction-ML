{
 "cells": [
  {
   "cell_type": "markdown",
   "metadata": {
    "colab_type": "text",
    "id": "dYUgHiLyKvRj"
   },
   "source": [
    "# <font color=green>OSA case study</font>\n",
    "## <font color=dark>Feature Selection: 2.- Wrapper <font>\n",
    "    \n",
    "    A wrapper method needs one machine learning algorithm and uses its performance as evaluation criteria.\n",
    "\n",
    "    you feed the features to the selected Machine Learning algorithm and based on the model performance you add/remove the features\n",
    "\n",
    "\n",
    "### See some references on Feature Selection such as:\n",
    "\n",
    "https://machinelearningmastery.com/feature-selection-machine-learning-python/\n",
    "\n",
    "https://scikit-learn.org/stable/modules/feature_selection.html\n",
    "\n",
    "https://www.kaggle.com/jepsds/feature-selection-using-selectkbest"
   ]
  },
  {
   "cell_type": "markdown",
   "metadata": {
    "colab_type": "text",
    "id": "s4d_ME8Pei7n"
   },
   "source": [
    "<font size= 5 color=magenta>----------------------------------------------------------------</font>\n",
    "<font size= 5 color=magenta>----------------------------------------------------------------</font>\n",
    "\n",
    "## Read the aggregated (clinical variables + speecg featores) Excel file for exteme male cases"
   ]
  },
  {
   "cell_type": "code",
   "execution_count": 1,
   "metadata": {},
   "outputs": [
    {
     "name": "stdout",
     "output_type": "stream",
     "text": [
      "['Sheet1']\n"
     ]
    }
   ],
   "source": [
    "# Import pandas\n",
    "import pandas as pd\n",
    "\n",
    "# Read Excell with extreme male cases\n",
    "file = 'OSA_Aggregated_UPM.xlsx'\n",
    "\n",
    "# Load spreadsheet\n",
    "xl = pd.ExcelFile(file)\n",
    "\n",
    "# Print the sheet names\n",
    "print(xl.sheet_names)\n"
   ]
  },
  {
   "cell_type": "code",
   "execution_count": 2,
   "metadata": {},
   "outputs": [],
   "source": [
    "\n",
    "# Load a sheet into a DataFrame by name: df_OSA_extreme\n",
    "df_OSA_inner = xl.parse('Sheet1')"
   ]
  },
  {
   "cell_type": "code",
   "execution_count": 3,
   "metadata": {
    "scrolled": true
   },
   "outputs": [
    {
     "data": {
      "text/html": [
       "<div>\n",
       "<style scoped>\n",
       "    .dataframe tbody tr th:only-of-type {\n",
       "        vertical-align: middle;\n",
       "    }\n",
       "\n",
       "    .dataframe tbody tr th {\n",
       "        vertical-align: top;\n",
       "    }\n",
       "\n",
       "    .dataframe thead th {\n",
       "        text-align: right;\n",
       "    }\n",
       "</style>\n",
       "<table border=\"1\" class=\"dataframe\">\n",
       "  <thead>\n",
       "    <tr style=\"text-align: right;\">\n",
       "      <th></th>\n",
       "      <th>Patient</th>\n",
       "      <th>Gender</th>\n",
       "      <th>IAH</th>\n",
       "      <th>Weight</th>\n",
       "      <th>Height</th>\n",
       "      <th>Age</th>\n",
       "      <th>Cervical</th>\n",
       "      <th>OSA</th>\n",
       "      <th>BMI</th>\n",
       "      <th>A_Form1</th>\n",
       "      <th>...</th>\n",
       "      <th>O_Ancho3</th>\n",
       "      <th>O_Ancho4</th>\n",
       "      <th>U_Form1</th>\n",
       "      <th>U_Form2</th>\n",
       "      <th>U_Form3</th>\n",
       "      <th>U_Form4</th>\n",
       "      <th>U_Ancho1</th>\n",
       "      <th>U_Ancho2</th>\n",
       "      <th>U_Ancho3</th>\n",
       "      <th>U_Ancho4</th>\n",
       "    </tr>\n",
       "  </thead>\n",
       "  <tbody>\n",
       "    <tr>\n",
       "      <th>0</th>\n",
       "      <td>P0005</td>\n",
       "      <td>hombre</td>\n",
       "      <td>9.0</td>\n",
       "      <td>80</td>\n",
       "      <td>173</td>\n",
       "      <td>32</td>\n",
       "      <td>40</td>\n",
       "      <td>Healthy</td>\n",
       "      <td>26.729927</td>\n",
       "      <td>746.822118</td>\n",
       "      <td>...</td>\n",
       "      <td>164.953071</td>\n",
       "      <td>223.771504</td>\n",
       "      <td>328.075500</td>\n",
       "      <td>757.032914</td>\n",
       "      <td>2565.730496</td>\n",
       "      <td>3024.500134</td>\n",
       "      <td>74.718076</td>\n",
       "      <td>88.331369</td>\n",
       "      <td>128.496457</td>\n",
       "      <td>379.432142</td>\n",
       "    </tr>\n",
       "    <tr>\n",
       "      <th>1</th>\n",
       "      <td>P0006</td>\n",
       "      <td>hombre</td>\n",
       "      <td>2.0</td>\n",
       "      <td>109</td>\n",
       "      <td>190</td>\n",
       "      <td>32</td>\n",
       "      <td>42</td>\n",
       "      <td>Healthy</td>\n",
       "      <td>30.193906</td>\n",
       "      <td>741.095216</td>\n",
       "      <td>...</td>\n",
       "      <td>74.584464</td>\n",
       "      <td>216.244108</td>\n",
       "      <td>337.409601</td>\n",
       "      <td>735.000000</td>\n",
       "      <td>2532.000000</td>\n",
       "      <td>4132.186568</td>\n",
       "      <td>68.657539</td>\n",
       "      <td>192.000000</td>\n",
       "      <td>134.000000</td>\n",
       "      <td>264.337720</td>\n",
       "    </tr>\n",
       "  </tbody>\n",
       "</table>\n",
       "<p>2 rows × 49 columns</p>\n",
       "</div>"
      ],
      "text/plain": [
       "  Patient  Gender  IAH  Weight  Height  Age  Cervical      OSA        BMI  \\\n",
       "0   P0005  hombre  9.0      80     173   32        40  Healthy  26.729927   \n",
       "1   P0006  hombre  2.0     109     190   32        42  Healthy  30.193906   \n",
       "\n",
       "      A_Form1  ...    O_Ancho3    O_Ancho4     U_Form1     U_Form2  \\\n",
       "0  746.822118  ...  164.953071  223.771504  328.075500  757.032914   \n",
       "1  741.095216  ...   74.584464  216.244108  337.409601  735.000000   \n",
       "\n",
       "       U_Form3      U_Form4   U_Ancho1    U_Ancho2    U_Ancho3    U_Ancho4  \n",
       "0  2565.730496  3024.500134  74.718076   88.331369  128.496457  379.432142  \n",
       "1  2532.000000  4132.186568  68.657539  192.000000  134.000000  264.337720  \n",
       "\n",
       "[2 rows x 49 columns]"
      ]
     },
     "execution_count": 3,
     "metadata": {},
     "output_type": "execute_result"
    }
   ],
   "source": [
    "df_OSA_inner.head(2)"
   ]
  },
  {
   "cell_type": "markdown",
   "metadata": {},
   "source": [
    "## NOTE:\n",
    "\n",
    "Scikit-learn indeed does not support stepwise regression. \n",
    "That's because what is commonly known as 'stepwise regression'\n",
    "is an algorithm based on p-values of coefficients of linear regression,\n",
    "and scikit-learn deliberately avoids inferential \n",
    "approach to model learning (significance testing etc). \n",
    "''''''\n"
   ]
  },
  {
   "cell_type": "markdown",
   "metadata": {},
   "source": [
    "## Scikit-learn implements Recursive Feature Elimination\n",
    "\n",
    "The Recursive Feature Elimination (or RFE) works by recursively removing attributes and building a model on those attributes that remain.\n",
    "\n",
    "It uses the model accuracy to identify which attributes (and combination of attributes) contribute the most to predicting the target attribute."
   ]
  },
  {
   "cell_type": "code",
   "execution_count": 5,
   "metadata": {},
   "outputs": [],
   "source": [
    "# Prepare X and Y data \n",
    "\n",
    "import pandas\n",
    "import numpy as np\n",
    "\n",
    "array = df_OSA_inner.values\n",
    "\n",
    "# Select Features from columns 3 to 6 and 8 to 48\n",
    "X = array[:,np.r_[3:7,8:49]]\n",
    "\n",
    "# Classes are in possition 7 (OSA) \n",
    "Y = array[:,7]"
   ]
  },
  {
   "cell_type": "code",
   "execution_count": 7,
   "metadata": {},
   "outputs": [
    {
     "name": "stdout",
     "output_type": "stream",
     "text": [
      "Num Features: 6\n",
      "Selected Features: [ True  True  True  True  True False False False False False False False\n",
      " False False False False False False False False False  True False False\n",
      " False False False False False False False False False False False False\n",
      " False False False False False False False False False]\n"
     ]
    }
   ],
   "source": [
    "# Feature Extraction with RFE\n",
    "\n",
    "from sklearn.feature_selection import RFE\n",
    "from sklearn.linear_model import LogisticRegression\n",
    "\n",
    "# feature extraction\n",
    "model = LogisticRegression(solver='liblinear')\n",
    "rfe = RFE(model, 6)\n",
    "fit = rfe.fit(X, Y)\n",
    "print(\"Num Features: %d\" % fit.n_features_)\n",
    "print(\"Selected Features: %s\" % fit.support_)\n"
   ]
  }
 ],
 "metadata": {
  "colab": {
   "collapsed_sections": [],
   "name": "MSTC_Numpy_Matplolib_Pandas_Scikitlearn_OSA.ipynb",
   "provenance": [],
   "version": "0.3.2"
  },
  "kernelspec": {
   "display_name": "Python 3",
   "language": "python",
   "name": "python3"
  },
  "language_info": {
   "codemirror_mode": {
    "name": "ipython",
    "version": 3
   },
   "file_extension": ".py",
   "mimetype": "text/x-python",
   "name": "python",
   "nbconvert_exporter": "python",
   "pygments_lexer": "ipython3",
   "version": "3.7.3"
  }
 },
 "nbformat": 4,
 "nbformat_minor": 1
}
