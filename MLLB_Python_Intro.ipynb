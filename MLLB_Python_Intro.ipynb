{
 "cells": [
  {
   "cell_type": "markdown",
   "metadata": {},
   "source": [
    "# <font color=#BB44>A VERY short Python Introduction (MLLB)</font>\n",
    "### Here we will see very basic things\n",
    "\n",
    "## You can follow online - courses, for example: [Datacamp intro Python for Data Science](https://www.datacamp.com/courses/intro-to-python-for-data-science)"
   ]
  },
  {
   "cell_type": "markdown",
   "metadata": {},
   "source": [
    "<font size= 5 color=green>----------------------------------------------------------------</font>\n",
    "<font size= 5 color=green>----------------------------------------------------------------</font>\n",
    "\n",
    "## Variables & Types:\n",
    "\n",
    "### * Case sensitive name\n",
    "### * Operations depend on datatypes\n"
   ]
  },
  {
   "cell_type": "code",
   "execution_count": 1,
   "metadata": {},
   "outputs": [
    {
     "data": {
      "text/plain": [
       "str"
      ]
     },
     "execution_count": 1,
     "metadata": {},
     "output_type": "execute_result"
    }
   ],
   "source": [
    "a=\"hello\"\n",
    "\n",
    "type(a)\n"
   ]
  },
  {
   "cell_type": "code",
   "execution_count": 2,
   "metadata": {},
   "outputs": [
    {
     "data": {
      "text/plain": [
       "'helloworld'"
      ]
     },
     "execution_count": 2,
     "metadata": {},
     "output_type": "execute_result"
    }
   ],
   "source": [
    "b = \"world\"\n",
    "\n",
    "a+b"
   ]
  },
  {
   "cell_type": "code",
   "execution_count": 3,
   "metadata": {},
   "outputs": [
    {
     "data": {
      "text/plain": [
       "7"
      ]
     },
     "execution_count": 3,
     "metadata": {},
     "output_type": "execute_result"
    }
   ],
   "source": [
    "a = 3\n",
    "b = 4\n",
    "a + b"
   ]
  },
  {
   "cell_type": "markdown",
   "metadata": {},
   "source": [
    "<font size= 5 color=green>----------------------------------------------------------------</font>\n",
    "<font size= 5 color=green>----------------------------------------------------------------</font>\n",
    "\n",
    "## Lists\n",
    "\n",
    "### - Name a collection of values\n",
    "### - Contain any type\n",
    "### - Contain different types\n"
   ]
  },
  {
   "cell_type": "code",
   "execution_count": 4,
   "metadata": {},
   "outputs": [
    {
     "name": "stdout",
     "output_type": "stream",
     "text": [
      "Type of L <class 'list'>\n",
      "First value 3\n",
      "The list:  [3, 4, 'numbers']\n"
     ]
    }
   ],
   "source": [
    "L=[a,b, \"numbers\"]\n",
    "\n",
    "print(\"Type of L\",type(L))\n",
    "\n",
    "print(\"First value\",L[0])\n",
    "\n",
    "print(\"The list: \",L)"
   ]
  },
  {
   "cell_type": "code",
   "execution_count": 5,
   "metadata": {},
   "outputs": [
    {
     "data": {
      "text/plain": [
       "[3, 4, 'numbers', 3, 4, 'numbers', 3, 4, 'numbers']"
      ]
     },
     "execution_count": 5,
     "metadata": {},
     "output_type": "execute_result"
    }
   ],
   "source": [
    "L*3"
   ]
  },
  {
   "cell_type": "markdown",
   "metadata": {},
   "source": [
    "<font size= 5 color=green>----------------------------------------------------------------</font>\n",
    "<font size= 5 color=green>----------------------------------------------------------------</font>\n",
    "\n",
    "## Packages:\n",
    "\n",
    "### * Directory of Python scripts\n",
    "### * Specific functions, methods, types\n",
    "### * Operations depend on datatypes\n",
    "### * THOUSANDS of Packages available!!! Numpy, Matplotlib, Pandas, Scikit-Learn,...\n"
   ]
  },
  {
   "cell_type": "markdown",
   "metadata": {},
   "source": [
    "## [NumPy is the fundamental package for scientific computing with Python](http://www.numpy.org/)\n",
    "![Imagen Numpy](http://www.numpy.org/_static/numpy_logo.png)"
   ]
  },
  {
   "cell_type": "markdown",
   "metadata": {},
   "source": [
    "## If NOT installed, install a package:\n",
    "### pip install numpy \n",
    "### or\n",
    "### conda install numpy ....)\n",
    "## Then import:\n",
    "### import numpy as np"
   ]
  },
  {
   "cell_type": "code",
   "execution_count": 24,
   "metadata": {},
   "outputs": [],
   "source": [
    "L=[1.2, -9.0, 100.2, -20, -.30]"
   ]
  },
  {
   "cell_type": "code",
   "execution_count": 25,
   "metadata": {},
   "outputs": [
    {
     "data": {
      "text/plain": [
       "list"
      ]
     },
     "execution_count": 25,
     "metadata": {},
     "output_type": "execute_result"
    }
   ],
   "source": [
    "type(L)"
   ]
  },
  {
   "cell_type": "code",
   "execution_count": 26,
   "metadata": {},
   "outputs": [],
   "source": [
    "import numpy as np"
   ]
  },
  {
   "cell_type": "code",
   "execution_count": 27,
   "metadata": {},
   "outputs": [],
   "source": [
    "L_vector = np.array(L)"
   ]
  },
  {
   "cell_type": "code",
   "execution_count": 20,
   "metadata": {},
   "outputs": [
    {
     "data": {
      "text/plain": [
       "numpy.ndarray"
      ]
     },
     "execution_count": 20,
     "metadata": {},
     "output_type": "execute_result"
    }
   ],
   "source": [
    "type(L_vector)"
   ]
  },
  {
   "cell_type": "code",
   "execution_count": 23,
   "metadata": {},
   "outputs": [
    {
     "data": {
      "text/plain": [
       "array([  2.4, -18. , 200.4, -40. ,  -0.6])"
      ]
     },
     "execution_count": 23,
     "metadata": {},
     "output_type": "execute_result"
    }
   ],
   "source": [
    "L_vector*2"
   ]
  },
  {
   "cell_type": "markdown",
   "metadata": {},
   "source": [
    "<font size= 5 color=green>----------------------------------------------------------------</font>\n",
    "<font size= 5 color=green>----------------------------------------------------------------</font>\n",
    "\n",
    "# Learn Python \"Environments\"\n",
    "\n",
    "\n",
    "Python Virtual Environment | Introduction\n",
    "\n",
    "A virtual environment is a tool that helps to keep dependencies required by different projects separate by creating isolated python virtual environments for them. This is one of the most important tools that most of the Python developers use.\n",
    "\n",
    "### [geeksforgeeks.org python-virtual-environment](https://www.geeksforgeeks.org/python-virtual-environment/ )"
   ]
  },
  {
   "cell_type": "markdown",
   "metadata": {},
   "source": [
    "<font size= 5 color=green>----------------------------------------------------------------</font>\n",
    "<font size= 5 color=green>----------------------------------------------------------------</font>\n",
    "\n",
    "## Python Indentation\n",
    "\n",
    "Most of the programming languages like C, C++, Java use braces { } to define a block of code. \n",
    "Python uses indentation.\n",
    "\n",
    "Code block (body of a function, loop etc.) starts with indentation and ends with the first unindented line. The amount of indentation is up to you, but it must be consistent throughout that block.\n",
    "\n",
    "Generally four whitespaces are used for indentation and is preferred over tabs.\n",
    "\n",
    "https://www.programiz.com/python-programming/statement-indentation-comments"
   ]
  },
  {
   "cell_type": "code",
   "execution_count": 28,
   "metadata": {},
   "outputs": [
    {
     "name": "stdout",
     "output_type": "stream",
     "text": [
      "1\n",
      "2\n",
      "3\n",
      "4\n",
      "5\n"
     ]
    }
   ],
   "source": [
    "for i in range(1,11):\n",
    "    print(i)\n",
    "    if i == 5:\n",
    "        break"
   ]
  },
  {
   "cell_type": "code",
   "execution_count": 31,
   "metadata": {},
   "outputs": [
    {
     "name": "stdout",
     "output_type": "stream",
     "text": [
      "value:  1.2 power of two:  1.44\n",
      "value:  -9.0 power of two:  81.0\n",
      "value:  100.2 power of two:  10040.04\n",
      "value:  -20.0 power of two:  400.0\n",
      "value:  -0.3 power of two:  0.09\n"
     ]
    }
   ],
   "source": [
    "for value in L_vector:\n",
    "    print(\"value: \", value, \"power of two: \", value**2)"
   ]
  },
  {
   "cell_type": "markdown",
   "metadata": {},
   "source": [
    "## [Matplotlib is a Python 2D plotting library](https://matplotlib.org/)\n",
    "![Matplotlib Image](https://matplotlib.org/_static/logo2.png)"
   ]
  },
  {
   "cell_type": "code",
   "execution_count": 32,
   "metadata": {},
   "outputs": [
    {
     "data": {
      "text/plain": [
       "Text(0, 0.5, 'y axis')"
      ]
     },
     "execution_count": 32,
     "metadata": {},
     "output_type": "execute_result"
    },
    {
     "data": {
      "image/png": "[encoded data removed]",
      "text/plain": [
       "<Figure size 432x288 with 1 Axes>"
      ]
     },
     "metadata": {
      "needs_background": "light"
     },
     "output_type": "display_data"
    }
   ],
   "source": [
    "\n",
    "\n",
    "plt.plot(L_vector)\n",
    "plt.xlabel('x axis')\n",
    "plt.ylabel('y axis')"
   ]
  },
  {
   "cell_type": "code",
   "execution_count": 37,
   "metadata": {},
   "outputs": [
    {
     "data": {
      "text/plain": [
       "Text(0, 0.5, 'Weight')"
      ]
     },
     "execution_count": 37,
     "metadata": {},
     "output_type": "execute_result"
    },
    {
     "data": {
      "image/png": "[encoded data removed]",
      "text/plain": [
       "<Figure size 432x288 with 1 Axes>"
      ]
     },
     "metadata": {
      "needs_background": "light"
     },
     "output_type": "display_data"
    }
   ],
   "source": [
    "x = np.random.randn(100)\n",
    "y= np.random.normal(loc = 10.0, scale = 4.0, size = 100)\n",
    "\n",
    "plt.scatter(x,y)\n",
    "plt.xlabel('AHI')\n",
    "plt.ylabel('Weight')"
   ]
  },
  {
   "cell_type": "code",
   "execution_count": 38,
   "metadata": {},
   "outputs": [
    {
     "data": {
      "text/plain": [
       "(array([ 5.,  2.,  7., 10., 14., 16., 13., 12., 12.,  9.]),\n",
       " array([ 1.646989  ,  3.17494781,  4.70290662,  6.23086543,  7.75882425,\n",
       "         9.28678306, 10.81474187, 12.34270068, 13.87065949, 15.39861831,\n",
       "        16.92657712]),\n",
       " <a list of 10 Patch objects>)"
      ]
     },
     "execution_count": 38,
     "metadata": {},
     "output_type": "execute_result"
    },
    {
     "data": {
      "image/png": "[encoded data removed]",
      "text/plain": [
       "<Figure size 432x288 with 1 Axes>"
      ]
     },
     "metadata": {
      "needs_background": "light"
     },
     "output_type": "display_data"
    }
   ],
   "source": [
    "plt.hist(y)"
   ]
  },
  {
   "cell_type": "markdown",
   "metadata": {},
   "source": [
    "<font size= 5 color=green>----------------------------------------------------------------</font>\n",
    "<font size= 5 color=green>----------------------------------------------------------------</font>\n",
    "\n",
    "## Python dictionaries\n",
    "\n",
    "### A special data structure which Python provides natively is the dictionary. Its name already gives away how data is stored: \n",
    "\n",
    "#### *a piece of data or values that can be accessed by a key(word) you have at hand!*"
   ]
  },
  {
   "cell_type": "code",
   "execution_count": 42,
   "metadata": {},
   "outputs": [
    {
     "name": "stdout",
     "output_type": "stream",
     "text": [
      "{'patient': 'P0001', 'IAH': 23, 'Gender': 'female', 'Age': 64}\n"
     ]
    }
   ],
   "source": [
    "dict_OSA = {\n",
    "    \"patient\": \"P0001\",\n",
    "    \"IAH\": 23,\n",
    "    \"Gender\": \"female\",\n",
    "    \"Age\": 64}\n",
    "\n",
    "print(dict_OSA)"
   ]
  },
  {
   "cell_type": "code",
   "execution_count": 44,
   "metadata": {},
   "outputs": [
    {
     "data": {
      "text/plain": [
       "dict_keys(['patient', 'IAH', 'Gender', 'Age'])"
      ]
     },
     "execution_count": 44,
     "metadata": {},
     "output_type": "execute_result"
    }
   ],
   "source": [
    "dict_OSA.keys()"
   ]
  },
  {
   "cell_type": "code",
   "execution_count": 45,
   "metadata": {},
   "outputs": [
    {
     "data": {
      "text/plain": [
       "'female'"
      ]
     },
     "execution_count": 45,
     "metadata": {},
     "output_type": "execute_result"
    }
   ],
   "source": [
    "dict_OSA[\"Gender\"]"
   ]
  },
  {
   "cell_type": "markdown",
   "metadata": {},
   "source": [
    "## You can follow online - courses, as for example: \n",
    "## [Datacamp intro Python for Data Science](https://www.datacamp.com/courses/intro-to-python-for-data-science)"
   ]
  },
  {
   "cell_type": "code",
   "execution_count": null,
   "metadata": {},
   "outputs": [],
   "source": []
  }
 ],
 "metadata": {
  "kernelspec": {
   "display_name": "Python 3",
   "language": "python",
   "name": "python3"
  },
  "language_info": {
   "codemirror_mode": {
    "name": "ipython",
    "version": 3
   },
   "file_extension": ".py",
   "mimetype": "text/x-python",
   "name": "python",
   "nbconvert_exporter": "python",
   "pygments_lexer": "ipython3",
   "version": "3.7.3"
  }
 },
 "nbformat": 4,
 "nbformat_minor": 2
}
